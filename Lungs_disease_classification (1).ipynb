{
  "nbformat": 4,
  "nbformat_minor": 0,
  "metadata": {
    "colab": {
      "provenance": [],
      "gpuType": "T4"
    },
    "kernelspec": {
      "name": "python3",
      "display_name": "Python 3"
    },
    "language_info": {
      "name": "python"
    },
    "accelerator": "GPU"
  },
  "cells": [
    {
      "cell_type": "code",
      "execution_count": null,
      "metadata": {
        "colab": {
          "base_uri": "https://localhost:8080/"
        },
        "id": "GyyWl_VNu-MU",
        "outputId": "13181dbc-f766-43ce-807b-3ca6d02bbe3b"
      },
      "outputs": [
        {
          "output_type": "stream",
          "name": "stdout",
          "text": [
            "Path to dataset files: /kaggle/input/chest-xray-pneumonia\n"
          ]
        }
      ],
      "source": [
        "import kagglehub\n",
        "\n",
        "# Download latest version\n",
        "path = kagglehub.dataset_download(\"paultimothymooney/chest-xray-pneumonia\")\n",
        "\n",
        "print(\"Path to dataset files:\", path)"
      ]
    },
    {
      "cell_type": "code",
      "source": [
        "# Step 1: Install and configure Kaggle\n",
        "!pip install kaggle\n",
        "!mkdir -p ~/.kaggle\n",
        "!mv kaggle.json ~/.kaggle/\n",
        "!chmod 600 ~/.kaggle/kaggle.json\n",
        "\n",
        "# Step 2: Download Chest X-Ray dataset\n",
        "!kaggle datasets download -d paultimothymooney/chest-xray-pneumonia\n",
        "\n",
        "# Step 3: Extract the dataset\n",
        "!unzip chest-xray-pneumonia.zip -d chest_xray_pneumonia\n"
      ],
      "metadata": {
        "id": "dCZj_9iLvAQb"
      },
      "execution_count": null,
      "outputs": []
    },
    {
      "cell_type": "code",
      "source": [
        "import os\n",
        "import torch\n",
        "import torch.nn as nn\n",
        "import torch.optim as optim\n",
        "import torchvision.transforms as transforms\n",
        "from torchvision.datasets import ImageFolder\n",
        "from torch.utils.data import DataLoader"
      ],
      "metadata": {
        "id": "fVU8bu0vvC4a"
      },
      "execution_count": null,
      "outputs": []
    },
    {
      "cell_type": "code",
      "source": [
        "# Paths for dataset\n",
        "train_path = './chest_xray_pneumonia/chest_xray/train'\n",
        "val_path = './chest_xray_pneumonia/chest_xray/val'\n",
        "test_path = './chest_xray_pneumonia/chest_xray/test'\n",
        "\n",
        "transform = transforms.Compose([\n",
        "    transforms.Grayscale(num_output_channels=1),\n",
        "    transforms.Resize((32,32)),\n",
        "    #transforms.RandomHorizontalFlip(),       # Flip images randomly\n",
        "    #transforms.RandomRotation(10),          # Rotate within ±10 degrees\n",
        "    transforms.ToTensor(),\n",
        "    #transforms.Normalize(mean=[0.5], std=[0.5])\n",
        "])\n",
        "\n",
        "\n",
        "# Load datasets\n",
        "train_dataset = ImageFolder(root=train_path, transform=transform)\n",
        "val_dataset = ImageFolder(root=val_path, transform=transform)\n",
        "test_dataset = ImageFolder(root=test_path, transform=transform)\n",
        "\n",
        "# Create DataLoaders\n",
        "train_loader = DataLoader(train_dataset, batch_size=2, shuffle=True)\n",
        "val_loader = DataLoader(val_dataset, batch_size=2, shuffle=False)\n",
        "test_loader = DataLoader(test_dataset, batch_size=2, shuffle=False)\n",
        "\n",
        "print(f\"Train samples: {len(train_dataset)}, Validation samples: {len(val_dataset)}, Test samples: {len(test_dataset)}\")\n"
      ],
      "metadata": {
        "colab": {
          "base_uri": "https://localhost:8080/"
        },
        "id": "Tc6QsbUpvFCp",
        "outputId": "f9308656-20e5-46d0-97ad-9ab1f821912f"
      },
      "execution_count": null,
      "outputs": [
        {
          "output_type": "stream",
          "name": "stdout",
          "text": [
            "Train samples: 5216, Validation samples: 16, Test samples: 624\n"
          ]
        }
      ]
    },
    {
      "cell_type": "code",
      "source": [
        "import torch\n",
        "import torch.nn as nn\n",
        "import torch.optim as optim\n",
        "import torch.nn.functional as F\n",
        "from torch.optim.lr_scheduler import CosineAnnealingLR\n",
        "\n",
        "# Define Autoencoder (Conv-based)\n",
        "class ConvAutoencoder(nn.Module):\n",
        "    def __init__(self):\n",
        "        super().__init__()\n",
        "\n",
        "        # Encoder\n",
        "        self.encoder = nn.Sequential(\n",
        "            nn.Conv2d(1, 32, kernel_size=3, stride=2, padding=1),\n",
        "            nn.ReLU(),\n",
        "            nn.Conv2d(32, 64, kernel_size=3, stride=2, padding=1),\n",
        "            nn.ReLU(),\n",
        "            nn.Conv2d(64, 128, kernel_size=3, stride=2, padding=1),\n",
        "            nn.ReLU()\n",
        "        )\n",
        "\n",
        "        # Decoder\n",
        "        self.decoder = nn.Sequential(\n",
        "            nn.ConvTranspose2d(128, 64, kernel_size=3, stride=2, padding=1, output_padding=1),\n",
        "            nn.ReLU(),\n",
        "            nn.ConvTranspose2d(64, 32, kernel_size=3, stride=2, padding=1, output_padding=1),\n",
        "            nn.ReLU(),\n",
        "            nn.ConvTranspose2d(32, 1, kernel_size=3, stride=2, padding=1, output_padding=1),\n",
        "            nn.Sigmoid()\n",
        "        )\n",
        "\n",
        "    def forward(self, x):\n",
        "        encoded = self.encoder(x)\n",
        "        decoded = self.decoder(encoded)\n",
        "        return decoded\n",
        "\n",
        "    def get_latent_features(self, x):\n",
        "        return self.encoder(x)\n",
        "\n",
        "# Classifier (CNN on latent features)\n",
        "def LatentFeatureCNN(input_channels=128, num_classes=1):\n",
        "    model = nn.Sequential(\n",
        "        nn.Conv2d(input_channels, 64, kernel_size=3, stride=1, padding=1),\n",
        "        nn.ReLU(),\n",
        "        nn.Conv2d(64, 128, kernel_size=3, stride=1, padding=1),\n",
        "        nn.ReLU(),\n",
        "        nn.MaxPool2d(2, 2),\n",
        "        nn.Flatten(),\n",
        "        nn.Linear(128 * 2 * 2, 256),\n",
        "        nn.ReLU(),\n",
        "        nn.Dropout(0.3),\n",
        "        nn.Linear(256, num_classes)\n",
        "    )\n",
        "    return model\n",
        "\n",
        "def train_autoencoder(autoencoder, train_loader, device, epochs=5):\n",
        "    optimizer = optim.AdamW(autoencoder.parameters(), lr=0.001)\n",
        "    criterion = nn.MSELoss()\n",
        "\n",
        "    autoencoder.train()\n",
        "    for epoch in range(epochs):\n",
        "        total_loss = 0\n",
        "        for images, _ in train_loader:\n",
        "            images = images.to(device)\n",
        "\n",
        "            outputs = autoencoder(images)\n",
        "            loss = criterion(outputs, images)\n",
        "\n",
        "            optimizer.zero_grad()\n",
        "            loss.backward()\n",
        "            optimizer.step()\n",
        "\n",
        "            total_loss += loss.item()\n",
        "\n",
        "        print(f\"Autoencoder Epoch {epoch+1}, Loss: {total_loss / len(train_loader):.4f}\")\n",
        "\n",
        "\n",
        "\n",
        "\n"
      ],
      "metadata": {
        "id": "EOCjGcV2vKAe"
      },
      "execution_count": null,
      "outputs": []
    },
    {
      "cell_type": "code",
      "source": [
        "def train_classifier(autoencoder, classifier, train_loader, val_loader, device, epochs=10):\n",
        "    optimizer = optim.AdamW(classifier.parameters(), lr=0.001)\n",
        "    scheduler = CosineAnnealingLR(optimizer, T_max=epochs)\n",
        "    criterion = nn.BCEWithLogitsLoss()\n",
        "\n",
        "    # Freeze Autoencoder Encoder\n",
        "    for param in autoencoder.encoder.parameters():\n",
        "        param.requires_grad = False\n",
        "\n",
        "    for epoch in range(epochs):\n",
        "        classifier.train()\n",
        "        total_loss, correct, total = 0, 0, 0\n",
        "\n",
        "        for images, labels in train_loader:\n",
        "            images, labels = images.to(device), labels.float().to(device)\n",
        "\n",
        "            # Extract latent features\n",
        "            with torch.no_grad():\n",
        "                latent_features = autoencoder.get_latent_features(images)\n",
        "\n",
        "            # Dynamically reshape latent features\n",
        "            batch_size = latent_features.size(0)\n",
        "            latent_features = latent_features.view(batch_size, *latent_features.shape[1:])\n",
        "\n",
        "            #print(f\"Latent shape: {latent_features.shape}\")  # Debug shape\n",
        "\n",
        "            # Ensure classifier input matches the latent shape\n",
        "            outputs = classifier(latent_features).squeeze(1)\n",
        "\n",
        "            # Compute loss\n",
        "            loss = criterion(outputs, labels)\n",
        "\n",
        "            optimizer.zero_grad()\n",
        "            loss.backward()\n",
        "            optimizer.step()\n",
        "\n",
        "            # Metrics\n",
        "            total_loss += loss.item() * images.size(0)\n",
        "            preds = (torch.sigmoid(outputs) > 0.5).float()\n",
        "            correct += (preds == labels).sum().item()\n",
        "            total += labels.size(0)\n",
        "\n",
        "        scheduler.step()\n",
        "\n",
        "        train_loss = total_loss / total\n",
        "        train_acc = correct / total\n",
        "\n",
        "        print(f\"Epoch {epoch+1}/{epochs}, Loss: {train_loss:.4f}, Accuracy: {train_acc:.4f}\")\n",
        "\n",
        "        # Validation\n",
        "        validate(classifier, autoencoder, val_loader, criterion, device)\n",
        "\n",
        "def validate(classifier, autoencoder, val_loader, criterion, device):\n",
        "    classifier.eval()\n",
        "    total_loss, correct, total = 0, 0, 0\n",
        "\n",
        "    with torch.no_grad():\n",
        "        for images, labels in val_loader:\n",
        "            images, labels = images.to(device), labels.float().to(device)\n",
        "\n",
        "            latent_features = autoencoder.get_latent_features(images)\n",
        "            latent_features = latent_features.view(images.size(0), 128, 4, 4)\n",
        "\n",
        "            outputs = classifier(latent_features).squeeze(1)\n",
        "\n",
        "            loss = criterion(outputs, labels)\n",
        "\n",
        "            total_loss += loss.item() * images.size(0)\n",
        "            preds = (torch.sigmoid(outputs) > 0.5).float()\n",
        "            correct += (preds == labels).sum().item()\n",
        "            total += labels.size(0)\n",
        "\n",
        "    val_loss = total_loss / total\n",
        "    val_acc = correct / total\n",
        "\n",
        "    print(f\"Validation Loss: {val_loss:.4f}, Accuracy: {val_acc:.4f}\")\n",
        "\n",
        "# Initialize models and device\n",
        "device = torch.device(\"cuda\" if torch.cuda.is_available() else \"cpu\")\n",
        "autoencoder = ConvAutoencoder().to(device)\n",
        "classifier = LatentFeatureCNN().to(device)\n",
        "\n",
        "# Train autoencoder\n",
        "train_autoencoder(autoencoder, train_loader, device, epochs=3)\n",
        "\n",
        "# Train classifier with autoencoder features\n",
        "train_classifier(autoencoder, classifier, train_loader, val_loader, device, epochs=20)"
      ],
      "metadata": {
        "colab": {
          "base_uri": "https://localhost:8080/"
        },
        "id": "U6ngTa8dvMT4",
        "outputId": "3aa474d1-5454-45ec-9382-b8c009f0bbf5"
      },
      "execution_count": null,
      "outputs": [
        {
          "output_type": "stream",
          "name": "stdout",
          "text": [
            "Autoencoder Epoch 1, Loss: 0.0030\n",
            "Autoencoder Epoch 2, Loss: 0.0010\n",
            "Autoencoder Epoch 3, Loss: 0.0007\n",
            "Epoch 1/20, Loss: 0.2289, Accuracy: 0.9089\n",
            "Validation Loss: 0.5592, Accuracy: 0.8125\n",
            "Epoch 2/20, Loss: 0.1287, Accuracy: 0.9507\n",
            "Validation Loss: 0.7007, Accuracy: 0.7500\n",
            "Epoch 3/20, Loss: 0.1100, Accuracy: 0.9605\n",
            "Validation Loss: 0.2991, Accuracy: 0.8125\n",
            "Epoch 4/20, Loss: 0.1055, Accuracy: 0.9605\n",
            "Validation Loss: 0.1915, Accuracy: 0.8750\n",
            "Epoch 5/20, Loss: 0.0913, Accuracy: 0.9663\n",
            "Validation Loss: 0.3494, Accuracy: 0.8125\n",
            "Epoch 6/20, Loss: 0.0888, Accuracy: 0.9641\n",
            "Validation Loss: 0.1990, Accuracy: 0.9375\n",
            "Epoch 7/20, Loss: 0.0784, Accuracy: 0.9724\n",
            "Validation Loss: 0.4288, Accuracy: 0.7500\n",
            "Epoch 8/20, Loss: 0.0767, Accuracy: 0.9720\n",
            "Validation Loss: 1.9537, Accuracy: 0.6250\n",
            "Epoch 9/20, Loss: 0.0748, Accuracy: 0.9734\n",
            "Validation Loss: 0.6706, Accuracy: 0.6875\n",
            "Epoch 10/20, Loss: 0.0669, Accuracy: 0.9747\n",
            "Validation Loss: 0.3203, Accuracy: 0.8125\n",
            "Epoch 11/20, Loss: 0.0591, Accuracy: 0.9781\n",
            "Validation Loss: 0.3799, Accuracy: 0.7500\n",
            "Epoch 12/20, Loss: 0.0492, Accuracy: 0.9812\n",
            "Validation Loss: 0.6119, Accuracy: 0.7500\n",
            "Epoch 13/20, Loss: 0.0466, Accuracy: 0.9818\n",
            "Validation Loss: 0.7914, Accuracy: 0.7500\n",
            "Epoch 14/20, Loss: 0.0382, Accuracy: 0.9856\n",
            "Validation Loss: 0.3688, Accuracy: 0.8125\n",
            "Epoch 15/20, Loss: 0.0327, Accuracy: 0.9868\n",
            "Validation Loss: 1.0470, Accuracy: 0.6875\n",
            "Epoch 16/20, Loss: 0.0269, Accuracy: 0.9896\n",
            "Validation Loss: 1.1053, Accuracy: 0.7500\n",
            "Epoch 17/20, Loss: 0.0235, Accuracy: 0.9921\n",
            "Validation Loss: 0.7892, Accuracy: 0.8125\n",
            "Epoch 18/20, Loss: 0.0207, Accuracy: 0.9923\n",
            "Validation Loss: 0.8529, Accuracy: 0.7500\n",
            "Epoch 19/20, Loss: 0.0190, Accuracy: 0.9929\n",
            "Validation Loss: 1.0150, Accuracy: 0.7500\n",
            "Epoch 20/20, Loss: 0.0173, Accuracy: 0.9937\n",
            "Validation Loss: 1.0427, Accuracy: 0.7500\n"
          ]
        }
      ]
    },
    {
      "cell_type": "code",
      "source": [
        "# Testing Function\n",
        "criterion = nn.BCEWithLogitsLoss()\n",
        "def test_model(model,autoencoder,criterion,test_loader):\n",
        "    model.eval()\n",
        "    test_correct, test_total = 0, 0\n",
        "\n",
        "    with torch.no_grad():\n",
        "        for images, labels in val_loader:\n",
        "            images, labels = images.to(device), labels.float().to(device)\n",
        "\n",
        "            latent_features = autoencoder.get_latent_features(images)\n",
        "            latent_features = latent_features.view(images.size(0), 128, 4, 4)\n",
        "\n",
        "            outputs = classifier(latent_features).squeeze(1)\n",
        "\n",
        "            loss = criterion(outputs, labels)\n",
        "\n",
        "            preds = (torch.sigmoid(outputs) > 0.5).float()\n",
        "            test_correct += (preds == labels).sum().item()\n",
        "            test_total += labels.size(0)\n",
        "\n",
        "    test_acc = test_correct / test_total\n",
        "    print(f\"Test Accuracy: {test_acc:.4f}\")\n",
        "\n",
        "# Evaluate on test set\n",
        "test_model(classifier,autoencoder,criterion,test_loader)"
      ],
      "metadata": {
        "colab": {
          "base_uri": "https://localhost:8080/"
        },
        "id": "wFuIuKWPvPZX",
        "outputId": "462090b5-f95c-42b6-cfdc-762519ff576b"
      },
      "execution_count": null,
      "outputs": [
        {
          "output_type": "stream",
          "name": "stdout",
          "text": [
            "Test Accuracy: 0.7500\n"
          ]
        }
      ]
    }
  ]
}